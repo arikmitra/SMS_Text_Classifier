{
  "nbformat": 4,
  "nbformat_minor": 0,
  "metadata": {
    "colab": {
      "provenance": [],
      "gpuType": "T4",
      "authorship_tag": "ABX9TyOLhVhtFfzkB6gcEB05wBSA",
      "include_colab_link": true
    },
    "kernelspec": {
      "name": "python3",
      "display_name": "Python 3"
    },
    "language_info": {
      "name": "python"
    },
    "accelerator": "GPU"
  },
  "cells": [
    {
      "cell_type": "markdown",
      "metadata": {
        "id": "view-in-github",
        "colab_type": "text"
      },
      "source": [
        "<a href=\"https://colab.research.google.com/github/arikmitra/SMS_Text_Classifier/blob/main/SMS_Text_Classifier_new.ipynb\" target=\"_parent\"><img src=\"https://colab.research.google.com/assets/colab-badge.svg\" alt=\"Open In Colab\"/></a>"
      ]
    },
    {
      "cell_type": "code",
      "execution_count": null,
      "metadata": {
        "id": "lMHwYXHXCar3",
        "colab": {
          "base_uri": "https://localhost:8080/"
        },
        "outputId": "de3ecc4e-a1d9-4b19-b5b0-b7a8184fdb44"
      },
      "outputs": [
        {
          "output_type": "stream",
          "name": "stdout",
          "text": [
            "--2024-01-17 09:15:18--  https://cdn.freecodecamp.org/project-data/sms/train-data.tsv\n",
            "Resolving cdn.freecodecamp.org (cdn.freecodecamp.org)... 172.67.70.149, 104.26.3.33, 104.26.2.33, ...\n",
            "Connecting to cdn.freecodecamp.org (cdn.freecodecamp.org)|172.67.70.149|:443... connected.\n",
            "HTTP request sent, awaiting response... 200 OK\n",
            "Length: 358233 (350K) [text/tab-separated-values]\n",
            "Saving to: ‘train-data.tsv’\n",
            "\n",
            "train-data.tsv      100%[===================>] 349.84K  --.-KB/s    in 0.01s   \n",
            "\n",
            "2024-01-17 09:15:19 (29.2 MB/s) - ‘train-data.tsv’ saved [358233/358233]\n",
            "\n",
            "--2024-01-17 09:15:19--  https://cdn.freecodecamp.org/project-data/sms/valid-data.tsv\n",
            "Resolving cdn.freecodecamp.org (cdn.freecodecamp.org)... 172.67.70.149, 104.26.3.33, 104.26.2.33, ...\n",
            "Connecting to cdn.freecodecamp.org (cdn.freecodecamp.org)|172.67.70.149|:443... connected.\n",
            "HTTP request sent, awaiting response... 200 OK\n",
            "Length: 118774 (116K) [text/tab-separated-values]\n",
            "Saving to: ‘valid-data.tsv’\n",
            "\n",
            "valid-data.tsv      100%[===================>] 115.99K  --.-KB/s    in 0.004s  \n",
            "\n",
            "2024-01-17 09:15:20 (26.3 MB/s) - ‘valid-data.tsv’ saved [118774/118774]\n",
            "\n"
          ]
        }
      ],
      "source": [
        "# get data files\n",
        "!wget https://cdn.freecodecamp.org/project-data/sms/train-data.tsv\n",
        "!wget https://cdn.freecodecamp.org/project-data/sms/valid-data.tsv\n",
        "\n",
        "train_file_path = \"train-data.tsv\"\n",
        "test_file_path = \"valid-data.tsv\""
      ]
    },
    {
      "cell_type": "code",
      "execution_count": null,
      "metadata": {
        "id": "g_h508FEClxO"
      },
      "outputs": [],
      "source": [
        "import numpy as np\n",
        "import pandas as pd\n",
        "import tensorflow as tf\n",
        "from tensorflow import keras"
      ]
    },
    {
      "cell_type": "code",
      "execution_count": null,
      "metadata": {
        "id": "zOMKywn4zReN"
      },
      "outputs": [],
      "source": [
        "train_df = pd.read_csv(\n",
        "                            'train-data.tsv',sep='\\t',\n",
        "                            header = None,\n",
        "                            names=['class', 'text']\n",
        "                            )\n",
        "val_df = pd.read_csv(\n",
        "                            'valid-data.tsv',\n",
        "                             sep='\\t',\n",
        "                             header = None,\n",
        "                             names=['class', 'text']\n",
        "                             )"
      ]
    },
    {
      "cell_type": "code",
      "source": [
        "#train_df.head()"
      ],
      "metadata": {
        "id": "ydk9Mxqk0M5r"
      },
      "execution_count": null,
      "outputs": []
    },
    {
      "cell_type": "code",
      "source": [
        "train_df['class'].replace(['ham', 'spam'],[0,1], inplace=True)\n",
        "val_df['class'].replace(['ham', 'spam'],[0,1], inplace=True)"
      ],
      "metadata": {
        "id": "uAKRVvppX4KT"
      },
      "execution_count": null,
      "outputs": []
    },
    {
      "cell_type": "code",
      "source": [
        "#train_df.head()"
      ],
      "metadata": {
        "id": "8F8_khc0bTlb"
      },
      "execution_count": null,
      "outputs": []
    },
    {
      "cell_type": "code",
      "source": [
        "train_labels = train_df[\"class\"].values\n",
        "val_labels = val_df[\"class\"].values"
      ],
      "metadata": {
        "id": "BiJzI6n_ZZQR"
      },
      "execution_count": null,
      "outputs": []
    },
    {
      "cell_type": "code",
      "source": [
        "train_tensor = tf.data.Dataset.from_tensor_slices((train_df['text'].values, train_labels)).batch(64).prefetch(tf.data.AUTOTUNE)"
      ],
      "metadata": {
        "id": "iTHF2IuhlJPT"
      },
      "execution_count": null,
      "outputs": []
    },
    {
      "cell_type": "code",
      "source": [
        "val_tensor = tf.data.Dataset.from_tensor_slices((val_df['text'].values, val_labels)).batch(64).prefetch(tf.data.AUTOTUNE)"
      ],
      "metadata": {
        "id": "3K7E5Zapptcz"
      },
      "execution_count": null,
      "outputs": []
    },
    {
      "cell_type": "code",
      "source": [
        "encode = keras.layers.TextVectorization()\n",
        "encode.adapt(train_tensor.map(lambda text, label:text))"
      ],
      "metadata": {
        "id": "pkas5laChpxD"
      },
      "execution_count": null,
      "outputs": []
    },
    {
      "cell_type": "code",
      "source": [
        "#len(encode.get_vocabulary())"
      ],
      "metadata": {
        "id": "JmXsL3B2njXE"
      },
      "execution_count": null,
      "outputs": []
    },
    {
      "cell_type": "code",
      "source": [
        "model = keras.Sequential([\n",
        "    encode,\n",
        "    keras.layers.Embedding(len(encode.get_vocabulary()), 64, mask_zero=True),\n",
        "    keras.layers.Bidirectional(keras.layers.LSTM(64)),\n",
        "    keras.layers.Dense(64, activation='relu'),\n",
        "    keras.layers.Dense(1)\n",
        "])"
      ],
      "metadata": {
        "id": "HfFf_obAgQ3i"
      },
      "execution_count": null,
      "outputs": []
    },
    {
      "cell_type": "code",
      "source": [
        "model.compile(loss=tf.keras.losses.BinaryCrossentropy(from_logits=True),\n",
        "              optimizer=tf.keras.optimizers.Adam(1e-4),\n",
        "              metrics=['accuracy'])"
      ],
      "metadata": {
        "id": "GMfRDeB4nJHC"
      },
      "execution_count": null,
      "outputs": []
    },
    {
      "cell_type": "code",
      "source": [
        "#len(train_tensor)"
      ],
      "metadata": {
        "id": "Mi_S5cFHte3N"
      },
      "execution_count": null,
      "outputs": []
    },
    {
      "cell_type": "code",
      "source": [
        "history = model.fit(\n",
        "    train_tensor,\n",
        "    epochs=10,\n",
        "    validation_data=val_tensor\n",
        ")"
      ],
      "metadata": {
        "colab": {
          "base_uri": "https://localhost:8080/"
        },
        "id": "NAriKnAaosxV",
        "outputId": "f3ab1afb-6168-47a6-a256-b1b8a609bcbc"
      },
      "execution_count": null,
      "outputs": [
        {
          "output_type": "stream",
          "name": "stdout",
          "text": [
            "Epoch 1/10\n",
            "66/66 [==============================] - 29s 257ms/step - loss: 0.6711 - accuracy: 0.8660 - val_loss: 0.6323 - val_accuracy: 0.8657\n",
            "Epoch 2/10\n",
            "66/66 [==============================] - 2s 33ms/step - loss: 0.5419 - accuracy: 0.8660 - val_loss: 0.4510 - val_accuracy: 0.8657\n",
            "Epoch 3/10\n",
            "66/66 [==============================] - 1s 20ms/step - loss: 0.3729 - accuracy: 0.8660 - val_loss: 0.2980 - val_accuracy: 0.8657\n",
            "Epoch 4/10\n",
            "66/66 [==============================] - 1s 19ms/step - loss: 0.2247 - accuracy: 0.8682 - val_loss: 0.1778 - val_accuracy: 0.8858\n",
            "Epoch 5/10\n",
            "66/66 [==============================] - 1s 19ms/step - loss: 0.1231 - accuracy: 0.9615 - val_loss: 0.0982 - val_accuracy: 0.9777\n",
            "Epoch 6/10\n",
            "66/66 [==============================] - 1s 19ms/step - loss: 0.0644 - accuracy: 0.9892 - val_loss: 0.0746 - val_accuracy: 0.9820\n",
            "Epoch 7/10\n",
            "66/66 [==============================] - 1s 19ms/step - loss: 0.0421 - accuracy: 0.9938 - val_loss: 0.0731 - val_accuracy: 0.9784\n",
            "Epoch 8/10\n",
            "66/66 [==============================] - 2s 26ms/step - loss: 0.0320 - accuracy: 0.9952 - val_loss: 0.0712 - val_accuracy: 0.9813\n",
            "Epoch 9/10\n",
            "66/66 [==============================] - 1s 22ms/step - loss: 0.0247 - accuracy: 0.9959 - val_loss: 0.0661 - val_accuracy: 0.9828\n",
            "Epoch 10/10\n",
            "66/66 [==============================] - 1s 19ms/step - loss: 0.0192 - accuracy: 0.9976 - val_loss: 0.0678 - val_accuracy: 0.9835\n"
          ]
        }
      ]
    },
    {
      "cell_type": "code",
      "execution_count": null,
      "metadata": {
        "id": "J9tD9yACG6M9",
        "colab": {
          "base_uri": "https://localhost:8080/"
        },
        "outputId": "5cb2ceb3-40bb-4f25-f0f0-9bba433dab97"
      },
      "outputs": [
        {
          "output_type": "stream",
          "name": "stdout",
          "text": [
            "1/1 [==============================] - 2s 2s/step\n",
            "[-5.6000247, 'ham']\n"
          ]
        }
      ],
      "source": [
        "# function to predict messages based on model\n",
        "# (should return list containing prediction and label, ex. [0.008318834938108921, 'ham'])\n",
        "def predict_message(pred_text):\n",
        "  pred = model.predict([pred_text])\n",
        "  if pred[0][0] >= 0.5:\n",
        "      prediction = [pred[0][0], \"spam\"]\n",
        "  else:\n",
        "      prediction = [pred[0][0], \"ham\"]\n",
        "  return (prediction)\n",
        "\n",
        "pred_text = \"how are you doing today?\"\n",
        "\n",
        "prediction = predict_message(pred_text)\n",
        "print(prediction)"
      ]
    },
    {
      "cell_type": "code",
      "execution_count": null,
      "metadata": {
        "id": "Dxotov85SjsC",
        "colab": {
          "base_uri": "https://localhost:8080/"
        },
        "outputId": "14c68cfc-8659-44f1-cdb1-e66306f4643a"
      },
      "outputs": [
        {
          "output_type": "stream",
          "name": "stdout",
          "text": [
            "1/1 [==============================] - 0s 33ms/step\n",
            "1/1 [==============================] - 0s 31ms/step\n",
            "1/1 [==============================] - 0s 32ms/step\n",
            "1/1 [==============================] - 0s 54ms/step\n",
            "1/1 [==============================] - 0s 50ms/step\n",
            "1/1 [==============================] - 0s 46ms/step\n",
            "1/1 [==============================] - 0s 47ms/step\n",
            "You passed the challenge. Great job!\n"
          ]
        }
      ],
      "source": [
        "# Run this cell to test your function and model. Do not modify contents.\n",
        "def test_predictions():\n",
        "  test_messages = [\"how are you doing today\",\n",
        "                   \"sale today! to stop texts call 98912460324\",\n",
        "                   \"i dont want to go. can we try it a different day? available sat\",\n",
        "                   \"our new mobile video service is live. just install on your phone to start watching.\",\n",
        "                   \"you have won £1000 cash! call to claim your prize.\",\n",
        "                   \"i'll bring it tomorrow. don't forget the milk.\",\n",
        "                   \"wow, is your arm alright. that happened to me one time too\"\n",
        "                  ]\n",
        "\n",
        "  test_answers = [\"ham\", \"spam\", \"ham\", \"spam\", \"spam\", \"ham\", \"ham\"]\n",
        "  passed = True\n",
        "\n",
        "  for msg, ans in zip(test_messages, test_answers):\n",
        "    prediction = predict_message(msg)\n",
        "    if prediction[1] != ans:\n",
        "      passed = False\n",
        "\n",
        "  if passed:\n",
        "    print(\"You passed the challenge. Great job!\")\n",
        "  else:\n",
        "    print(\"You haven't passed yet. Keep trying.\")\n",
        "\n",
        "test_predictions()\n"
      ]
    }
  ]
}